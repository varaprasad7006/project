{
  "nbformat": 4,
  "nbformat_minor": 0,
  "metadata": {
    "colab": {
      "provenance": [],
      "authorship_tag": "ABX9TyOuavKLFL0Jpk3vdVdoZ/PM",
      "include_colab_link": true
    },
    "kernelspec": {
      "name": "python3",
      "display_name": "Python 3"
    },
    "language_info": {
      "name": "python"
    }
  },
  "cells": [
    {
      "cell_type": "markdown",
      "metadata": {
        "id": "view-in-github",
        "colab_type": "text"
      },
      "source": [
        "<a href=\"https://colab.research.google.com/github/varaprasad7006/project/blob/main/project_playground.ipynb\" target=\"_parent\"><img src=\"https://colab.research.google.com/assets/colab-badge.svg\" alt=\"Open In Colab\"/></a>"
      ]
    },
    {
      "cell_type": "code",
      "execution_count": null,
      "metadata": {
        "id": "TdRUns2mQL9f"
      },
      "outputs": [],
      "source": [
        "import zipfile\n",
        "\n",
        "zipfile.ZipFile('project.zip').extractall('.')"
      ]
    },
    {
      "cell_type": "code",
      "source": [
        "from dtsc5502.version import __version__\n",
        "\n",
        "import dtsc5502.statistics as stats\n",
        "import dtsc5502.probabilities as probs\n",
        "\n",
        "print(__version__)\n",
        "lst = [1,2,3]\n",
        "\n",
        "print(stats.descriptive.mean(lst))\n",
        "print(probs.functions.factorial(3))\n"
      ],
      "metadata": {
        "id": "pa5ZiSByRNPr"
      },
      "execution_count": 7,
      "outputs": []
    },
    {
      "cell_type": "code",
      "source": [
        "! git clone https://github.com/varaprasad7006/project.git"
      ],
      "metadata": {
        "colab": {
          "base_uri": "https://localhost:8080/"
        },
        "id": "-h6IfI4TX8Nt",
        "outputId": "4f544811-58c8-4118-8b94-932a2669fc1e"
      },
      "execution_count": 1,
      "outputs": [
        {
          "output_type": "stream",
          "name": "stdout",
          "text": [
            "Cloning into 'project'...\n",
            "remote: Enumerating objects: 18, done.\u001b[K\n",
            "remote: Counting objects: 100% (18/18), done.\u001b[K\n",
            "remote: Compressing objects: 100% (15/15), done.\u001b[K\n",
            "remote: Total 18 (delta 2), reused 14 (delta 1), pack-reused 0\u001b[K\n",
            "Receiving objects: 100% (18/18), done.\n",
            "Resolving deltas: 100% (2/2), done.\n"
          ]
        }
      ]
    },
    {
      "cell_type": "code",
      "source": [
        "from project.dtsc5502.version import __version__\n",
        "\n",
        "import project.dtsc5502.statistics as stats\n",
        "import project.dtsc5502.probabilities as probs\n",
        "\n",
        "lst = [1,2,3]\n",
        "print(stats.descriptive.mean(lst))\n",
        "print(probs.functions.factorial(3))"
      ],
      "metadata": {
        "colab": {
          "base_uri": "https://localhost:8080/"
        },
        "id": "eyTeT1ZGXBGe",
        "outputId": "dd518ee5-ae5d-4f33-a28a-307dbe3d5465"
      },
      "execution_count": 6,
      "outputs": [
        {
          "output_type": "stream",
          "name": "stdout",
          "text": [
            "2.0\n",
            "6\n"
          ]
        }
      ]
    },
    {
      "cell_type": "code",
      "source": [],
      "metadata": {
        "id": "1A6h3aeab7xM"
      },
      "execution_count": null,
      "outputs": []
    }
  ]
}